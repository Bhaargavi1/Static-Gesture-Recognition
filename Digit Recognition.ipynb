{
 "cells": [
  {
   "cell_type": "markdown",
   "metadata": {},
   "source": [
    "## Finger Detection Methods"
   ]
  },
  {
   "cell_type": "code",
   "execution_count": null,
   "metadata": {},
   "outputs": [],
   "source": [
    "import numpy as np\n",
    "import pandas as pd \n",
    "import cv2\n",
    "import math"
   ]
  },
  {
   "cell_type": "markdown",
   "metadata": {},
   "source": [
    "### 1. Finger Detection Using Contouring "
   ]
  },
  {
   "cell_type": "markdown",
   "metadata": {},
   "source": [
    "### A. Finding the maximum area from the contours formed"
   ]
  },
  {
   "cell_type": "code",
   "execution_count": null,
   "metadata": {},
   "outputs": [],
   "source": [
    "def finding_area(erosion):\n",
    "    #Finding the maximum area to get the value of hand contour\n",
    "    img_con, contours, hierarchy = cv2.findContours(erosion.copy(),cv2.RETR_TREE, \\\n",
    "                                                    cv2.CHAIN_APPROX_NONE)\n",
    "    #Initialising the maximum area as -1 and then calculating the maximum area after comparing it with all \n",
    "    max_area = -1\n",
    "    for i in range(len(contours)):\n",
    "        cnt=contours[i]\n",
    "        area = cv2.contourArea(cnt)\n",
    "        #If the highest area is less than the the encountered area, the value of max_area gets replaced\n",
    "        if(area>max_area):\n",
    "            max_area=area\n",
    "            ci=i\n",
    "    cnt=contours[ci]\n",
    "    return cnt"
   ]
  },
  {
   "cell_type": "markdown",
   "metadata": {},
   "source": [
    "### B. Drawing Contours Hull"
   ]
  },
  {
   "cell_type": "code",
   "execution_count": null,
   "metadata": {},
   "outputs": [],
   "source": [
    "def draw_hull_contour(cnt,hand):\n",
    "    #Drawing convex hull and contours around \n",
    "    x,y,w,h = cv2.boundingRect(cnt)\n",
    "    #Drawing a rectangular boundary around the hand \n",
    "    cv2.rectangle(hand,(x,y),(x+w,y+h),(0,0,255),0)\n",
    "    #Making convex hull\n",
    "    hull = cv2.convexHull(cnt)\n",
    "    #Drawing the hand and then making contours around it\n",
    "    drawing = np.zeros(hand.shape,np.uint8)\n",
    "    cv2.drawContours(drawing,[cnt],0,(0,255,0),0)\n",
    "    cv2.drawContours(drawing,[hull],0,(0,0,255),0)\n",
    "    \n",
    "    return drawing"
   ]
  },
  {
   "cell_type": "markdown",
   "metadata": {},
   "source": [
    "### C. Calculating the defects"
   ]
  },
  {
   "cell_type": "code",
   "execution_count": null,
   "metadata": {},
   "outputs": [],
   "source": [
    "def find_defects(cnt,hand):\n",
    "    #Finding the defects in the convex hull and counting their value\n",
    "    hull = cv2.convexHull(cnt,returnPoints = False)\n",
    "    defects = cv2.convexityDefects(cnt,hull)\n",
    "    count_defects = 0\n",
    "    for i in range(defects.shape[0]):\n",
    "        s,e,f,d = defects[i,0]\n",
    "        start = tuple(cnt[s][0])\n",
    "        end = tuple(cnt[e][0])\n",
    "        far = tuple(cnt[f][0])\n",
    "        a = math.sqrt((end[0] - start[0])**2 + (end[1] - start[1])**2)\n",
    "        b = math.sqrt((far[0] - start[0])**2 + (far[1] - start[1])**2)\n",
    "        c = math.sqrt((end[0] - far[0])**2 + (end[1] - far[1])**2)\n",
    "        angle = (math.acos((b**2 + c**2 - a**2)/(2*b*c))*180)/3.14\n",
    "        if angle <= 90:\n",
    "            count_defects += 1\n",
    "            cv2.circle(hand,far,1,[0,0,255],-1)\n",
    "        cv2.line(hand,start,end,[0,255,0],2)\n",
    "        \n",
    "    return count_defects"
   ]
  },
  {
   "cell_type": "markdown",
   "metadata": {},
   "source": [
    "### Using Otsu's Thresholding with Binary"
   ]
  },
  {
   "cell_type": "code",
   "execution_count": null,
   "metadata": {},
   "outputs": [],
   "source": [
    "#Capturing the image from the camera\n",
    "capture =  cv2.VideoCapture(1)\n",
    "f = open(\"file.txt\",'a')\n",
    "\n",
    "while(True):\n",
    "    #Reading the image\n",
    "    ret, frame = capture.read()\n",
    "    \n",
    "    #Rectangle cropping and cropping the frame\n",
    "    cv2.rectangle(frame,(250,300), (50,100), (0,255,0),2)\n",
    "    hand = frame[100:300, 50:250]\n",
    "    \n",
    "    lower = np.array([0, 48, 80], dtype = \"uint8\")\n",
    "    upper = np.array([20, 255, 255], dtype = \"uint8\")\n",
    "    \n",
    "    grey = cv2.cvtColor(hand, cv2.COLOR_BGR2GRAY)\n",
    "    blurred = cv2.GaussianBlur(grey, (35,35), 0)\n",
    "    \n",
    "    _, thresh = cv2.threshold(blurred, 0, 255,\n",
    "                               cv2.THRESH_BINARY_INV+cv2.THRESH_OTSU)\n",
    "    #Kernel for morphological transformation\n",
    "    kernel = np.ones((5,5))\n",
    "    dilation = cv2.dilate(thresh, kernel, iterations = 1)\n",
    "    erosion = cv2.erode(dilation, kernel, iterations = 1)\n",
    "    \n",
    "    #Finding the area of contours\n",
    "    cnt = finding_area(erosion)\n",
    "    \n",
    "    #Drawing the contours \n",
    "    drawing = draw_hull_contour(cnt, hand)\n",
    "\n",
    "    #Finding defects \n",
    "    defect = find_defects(cnt,hand)\n",
    "    \n",
    "    hand1_img = np.hstack((drawing, hand))\n",
    "    cv2.imshow(\"Hand Image\", hand1_img) \n",
    "    #Showing the frame   \n",
    "    font = cv2.FONT_HERSHEY_SIMPLEX\n",
    "    if defect > 0:\n",
    "        text = \"The number is \" + str(defect + 1)\n",
    "    else:\n",
    "        text = \"There is no defect\"\n",
    "    cv2.putText(frame,text,(10,400), font, 2,(255,255,255),2,cv2.LINE_AA)\n",
    "    cv2.imshow('frame',frame)\n",
    "    \n",
    "    #Exit on press q\n",
    "    if cv2.waitKey(1) & 0xff == ord('q'):\n",
    "        break\n",
    "        \n",
    "#Releasing the capture and closing all windows\n",
    "capture.release()\n",
    "cv2.destroyAllWindows()"
   ]
  },
  {
   "cell_type": "code",
   "execution_count": null,
   "metadata": {},
   "outputs": [],
   "source": []
  },
  {
   "cell_type": "code",
   "execution_count": null,
   "metadata": {},
   "outputs": [],
   "source": []
  }
 ],
 "metadata": {
  "kernelspec": {
   "display_name": "Python 3",
   "language": "python",
   "name": "python3"
  },
  "language_info": {
   "codemirror_mode": {
    "name": "ipython",
    "version": 3
   },
   "file_extension": ".py",
   "mimetype": "text/x-python",
   "name": "python",
   "nbconvert_exporter": "python",
   "pygments_lexer": "ipython3",
   "version": "3.6.5"
  }
 },
 "nbformat": 4,
 "nbformat_minor": 2
}
